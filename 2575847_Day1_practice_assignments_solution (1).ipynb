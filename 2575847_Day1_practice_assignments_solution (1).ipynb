{
 "cells": [
  {
   "cell_type": "markdown",
   "id": "e01bdc21",
   "metadata": {},
   "source": [
    "# 1. Manipulate using a list.\n",
    "\n",
    "i) To add new elements to the end of the list\n",
    "\n",
    "ii) To reverse elements in the list\n",
    "\n",
    "iii) To display the same list of elements multiple times.\n",
    "\n",
    "iv) To concatenate two list\n",
    "\n",
    "v) To sort the elements in the list in ascending order."
   ]
  },
  {
   "cell_type": "code",
   "execution_count": 1,
   "id": "600908c2",
   "metadata": {},
   "outputs": [
    {
     "data": {
      "text/plain": [
       "[1, 2, 3, 8, 'bha', 'ss']"
      ]
     },
     "execution_count": 1,
     "metadata": {},
     "output_type": "execute_result"
    }
   ],
   "source": [
    "l=[1,2,3,8,\"bha\",\"ss\"] #creating a list\n",
    "l"
   ]
  },
  {
   "cell_type": "code",
   "execution_count": 2,
   "id": "3c42718e",
   "metadata": {},
   "outputs": [
    {
     "data": {
      "text/plain": [
       "[1, 2, 3, 8, 'bha', 'ss', 46, 'mphasis']"
      ]
     },
     "execution_count": 2,
     "metadata": {},
     "output_type": "execute_result"
    }
   ],
   "source": [
    "l.append(46)     #adding new elements\n",
    "l.append(\"mphasis\")\n",
    "l"
   ]
  },
  {
   "cell_type": "code",
   "execution_count": 5,
   "id": "3b857eeb",
   "metadata": {},
   "outputs": [
    {
     "data": {
      "text/plain": [
       "['mphasis', 46, 'ss', 'bha', 8, 3, 2, 1]"
      ]
     },
     "execution_count": 5,
     "metadata": {},
     "output_type": "execute_result"
    }
   ],
   "source": [
    "l.reverse()  #reversing elements\n",
    "l"
   ]
  },
  {
   "cell_type": "code",
   "execution_count": 10,
   "id": "65bcabb5",
   "metadata": {},
   "outputs": [
    {
     "data": {
      "text/plain": [
       "['mphasis',\n",
       " 46,\n",
       " 'ss',\n",
       " 'bha',\n",
       " 8,\n",
       " 3,\n",
       " 2,\n",
       " 1,\n",
       " 'mphasis',\n",
       " 46,\n",
       " 'ss',\n",
       " 'bha',\n",
       " 8,\n",
       " 3,\n",
       " 2,\n",
       " 1,\n",
       " 'mphasis',\n",
       " 46,\n",
       " 'ss',\n",
       " 'bha',\n",
       " 8,\n",
       " 3,\n",
       " 2,\n",
       " 1]"
      ]
     },
     "execution_count": 10,
     "metadata": {},
     "output_type": "execute_result"
    }
   ],
   "source": [
    "a=[]  #same list of elements multiple times\n",
    "a=3*l\n",
    "a"
   ]
  },
  {
   "cell_type": "code",
   "execution_count": 11,
   "id": "f78ba7f5",
   "metadata": {},
   "outputs": [
    {
     "data": {
      "text/plain": [
       "[1, 2, 3, 4, 5, 5, 4, 3, 2, 1]"
      ]
     },
     "execution_count": 11,
     "metadata": {},
     "output_type": "execute_result"
    }
   ],
   "source": [
    "a=[1,2,3,4,5] #To concatenate two list\n",
    "b=[5,4,3,2,1] \n",
    "c=a+b\n",
    "c"
   ]
  },
  {
   "cell_type": "code",
   "execution_count": 16,
   "id": "988c86f7",
   "metadata": {},
   "outputs": [
    {
     "data": {
      "text/plain": [
       "[0, 1, 22, 45, 45, 99]"
      ]
     },
     "execution_count": 16,
     "metadata": {},
     "output_type": "execute_result"
    }
   ],
   "source": [
    "a=[1,45,22,99,45,0] #sort the elements in ascending order\n",
    "a.sort()\n",
    "a"
   ]
  },
  {
   "cell_type": "code",
   "execution_count": 17,
   "id": "c21bf3f6",
   "metadata": {},
   "outputs": [
    {
     "data": {
      "text/plain": [
       "['cat', 'snake', 'tiger', 'zebra']"
      ]
     },
     "execution_count": 17,
     "metadata": {},
     "output_type": "execute_result"
    }
   ],
   "source": [
    "a=['snake','zebra','tiger','cat']\n",
    "a.sort()\n",
    "a"
   ]
  },
  {
   "cell_type": "markdown",
   "id": "a7a77d09",
   "metadata": {},
   "source": [
    "# 2. Write a Python program to do in the tuples.\n",
    "\n",
    "i) Manipulate using tuples.\n",
    "\n",
    "ii) To add new elements to the end of the tuples\n",
    "\n",
    "iii) To reverse elements in the list\n",
    "\n",
    "iv) To display the elements of the same tuple multiple times.\n",
    "\n",
    "v) To concatenate two tuples\n",
    "\n",
    "vi) To sort the elements in the list in ascending order."
   ]
  },
  {
   "cell_type": "code",
   "execution_count": 18,
   "id": "9931403b",
   "metadata": {},
   "outputs": [
    {
     "data": {
      "text/plain": [
       "('sai', 'vij', 'bhag', 'sri', 'to')"
      ]
     },
     "execution_count": 18,
     "metadata": {},
     "output_type": "execute_result"
    }
   ],
   "source": [
    "name=(\"sai\",\"vij\",\"bhag\",\"sri\",\"to\") \n",
    "name"
   ]
  },
  {
   "cell_type": "code",
   "execution_count": 60,
   "id": "3d27cc61",
   "metadata": {},
   "outputs": [
    {
     "data": {
      "text/plain": [
       "('sai', 'vij', 'bhag', 'sri', 'to', 'shiva')"
      ]
     },
     "execution_count": 60,
     "metadata": {},
     "output_type": "execute_result"
    }
   ],
   "source": [
    "name=(\"sai\",\"vij\",\"bhag\",\"sri\",\"to\") \n",
    "new='shiva'\n",
    "name+=(new,)\n",
    "name"
   ]
  },
  {
   "cell_type": "code",
   "execution_count": 20,
   "id": "bad9ae54",
   "metadata": {},
   "outputs": [
    {
     "data": {
      "text/plain": [
       "('to', 'sri', 'bhag', 'vij', 'sai')"
      ]
     },
     "execution_count": 20,
     "metadata": {},
     "output_type": "execute_result"
    }
   ],
   "source": [
    "n=name[::-1]  #To reverse elements\n",
    "n"
   ]
  },
  {
   "cell_type": "code",
   "execution_count": 23,
   "id": "d85ebfaa",
   "metadata": {},
   "outputs": [
    {
     "data": {
      "text/plain": [
       "('sai', 'vij', 'bhag', 'sri', 'to', 'sai', 'vij', 'bhag', 'sri', 'to')"
      ]
     },
     "execution_count": 23,
     "metadata": {},
     "output_type": "execute_result"
    }
   ],
   "source": [
    "a=[]   #To display the elements of the same tuple multiple times.\n",
    "a=2*name\n",
    "a\n"
   ]
  },
  {
   "cell_type": "code",
   "execution_count": 24,
   "id": "a8e7cc4f",
   "metadata": {},
   "outputs": [
    {
     "data": {
      "text/plain": [
       "(4, 5, 6, 'practice', 'exercise', 'solutions')"
      ]
     },
     "execution_count": 24,
     "metadata": {},
     "output_type": "execute_result"
    }
   ],
   "source": [
    "a=(4,5,6)  #To concatenate two tuples   \n",
    "b=('practice','exercise','solutions')\n",
    "a+b"
   ]
  },
  {
   "cell_type": "code",
   "execution_count": 27,
   "id": "e89ff9b2",
   "metadata": {},
   "outputs": [
    {
     "data": {
      "text/plain": [
       "['exercise', 'practice', 'solutions']"
      ]
     },
     "execution_count": 27,
     "metadata": {},
     "output_type": "execute_result"
    }
   ],
   "source": [
    "c=sorted(b) #elements in ascending order.\n",
    "c"
   ]
  },
  {
   "cell_type": "code",
   "execution_count": 61,
   "id": "4057c928",
   "metadata": {},
   "outputs": [
    {
     "name": "stdout",
     "output_type": "stream",
     "text": [
      "ascending order: [4, 9, 33, 77, 455, 2222, 99999]\n"
     ]
    }
   ],
   "source": [
    "num=(33,77,9,455,4,2222,99999) ##elements in ascending order.\n",
    "print(\"ascending order:\",sorted(num))"
   ]
  },
  {
   "cell_type": "markdown",
   "id": "904a448a",
   "metadata": {},
   "source": [
    "# 3. Write a python program to implement the following using list.\n",
    "\n",
    "i) Create a list with integers (minimum 10 numbers)\n",
    "\n",
    "ii) How to display the last number in the list\n",
    "\n",
    "iii) Command for displaying the values from the list [0:4]\n",
    "\n",
    "iv) Command for displaying the values from the list [2:]\n",
    "\n",
    "v) Command for displaying the values from the list[:6]"
   ]
  },
  {
   "cell_type": "code",
   "execution_count": 29,
   "id": "ecb68f1f",
   "metadata": {},
   "outputs": [
    {
     "data": {
      "text/plain": [
       "[22, 55, 3, 67, 33, 123, 8, 3445, 56, 18]"
      ]
     },
     "execution_count": 29,
     "metadata": {},
     "output_type": "execute_result"
    }
   ],
   "source": [
    "l=[22,55,3,67,33,123,8,3445,56,18] #Create a list\n",
    "l\n"
   ]
  },
  {
   "cell_type": "code",
   "execution_count": 30,
   "id": "0f6d92be",
   "metadata": {},
   "outputs": [
    {
     "data": {
      "text/plain": [
       "18"
      ]
     },
     "execution_count": 30,
     "metadata": {},
     "output_type": "execute_result"
    }
   ],
   "source": [
    "l[-1] #last number in the list\n"
   ]
  },
  {
   "cell_type": "code",
   "execution_count": 31,
   "id": "931b8957",
   "metadata": {},
   "outputs": [
    {
     "data": {
      "text/plain": [
       "[22, 55, 3, 67]"
      ]
     },
     "execution_count": 31,
     "metadata": {},
     "output_type": "execute_result"
    }
   ],
   "source": [
    "l[0:4]"
   ]
  },
  {
   "cell_type": "code",
   "execution_count": 32,
   "id": "d5299a5a",
   "metadata": {},
   "outputs": [
    {
     "data": {
      "text/plain": [
       "[3, 67, 33, 123, 8, 3445, 56, 18]"
      ]
     },
     "execution_count": 32,
     "metadata": {},
     "output_type": "execute_result"
    }
   ],
   "source": [
    "l[2:]"
   ]
  },
  {
   "cell_type": "code",
   "execution_count": 33,
   "id": "b80b4dcf",
   "metadata": {},
   "outputs": [
    {
     "data": {
      "text/plain": [
       "[22, 55, 3, 67, 33, 123]"
      ]
     },
     "execution_count": 33,
     "metadata": {},
     "output_type": "execute_result"
    }
   ],
   "source": [
    "l[:6]"
   ]
  },
  {
   "cell_type": "markdown",
   "id": "d1766eb8",
   "metadata": {},
   "source": [
    "# 4. Write a Python program: tuple1 = (10,50,20,40,30)\n",
    "\n",
    "i. To display the elements 10 and 50 from tuple1\n",
    "\n",
    "ii. To display the length of a tuple1.\n",
    "\n",
    "iii. To find the minimum element from tuple1.\n",
    "\n",
    "iv. To add all elements in the tuple1.\n",
    "\n",
    "v. To display the same tuple1 multiple times"
   ]
  },
  {
   "cell_type": "code",
   "execution_count": 34,
   "id": "7254d938",
   "metadata": {},
   "outputs": [
    {
     "data": {
      "text/plain": [
       "(10, 50, 20, 40, 30)"
      ]
     },
     "execution_count": 34,
     "metadata": {},
     "output_type": "execute_result"
    }
   ],
   "source": [
    "tuple1=(10,50,20,40,30)\n",
    "tuple1"
   ]
  },
  {
   "cell_type": "code",
   "execution_count": 35,
   "id": "d411072b",
   "metadata": {},
   "outputs": [
    {
     "data": {
      "text/plain": [
       "(10, 50)"
      ]
     },
     "execution_count": 35,
     "metadata": {},
     "output_type": "execute_result"
    }
   ],
   "source": [
    "tuple1[0:2]"
   ]
  },
  {
   "cell_type": "code",
   "execution_count": 36,
   "id": "d582ae3f",
   "metadata": {},
   "outputs": [
    {
     "data": {
      "text/plain": [
       "5"
      ]
     },
     "execution_count": 36,
     "metadata": {},
     "output_type": "execute_result"
    }
   ],
   "source": [
    "len(tuple1)"
   ]
  },
  {
   "cell_type": "code",
   "execution_count": 37,
   "id": "20418806",
   "metadata": {},
   "outputs": [
    {
     "data": {
      "text/plain": [
       "10"
      ]
     },
     "execution_count": 37,
     "metadata": {},
     "output_type": "execute_result"
    }
   ],
   "source": [
    "min(tuple1)"
   ]
  },
  {
   "cell_type": "code",
   "execution_count": 63,
   "id": "60157a89",
   "metadata": {},
   "outputs": [
    {
     "data": {
      "text/plain": [
       "(10, 50, 20, 40, 30, 23)"
      ]
     },
     "execution_count": 63,
     "metadata": {},
     "output_type": "execute_result"
    }
   ],
   "source": [
    "tuple1=(10,50,20,40,30)\n",
    "t=23\n",
    "tuple1+=(t,)\n",
    "tuple1"
   ]
  },
  {
   "cell_type": "code",
   "execution_count": 39,
   "id": "137b02ef",
   "metadata": {},
   "outputs": [
    {
     "data": {
      "text/plain": [
       "(10, 50, 20, 40, 30, 10, 50, 20, 40, 30)"
      ]
     },
     "execution_count": 39,
     "metadata": {},
     "output_type": "execute_result"
    }
   ],
   "source": [
    "2*tuple1"
   ]
  },
  {
   "cell_type": "markdown",
   "id": "514334fb",
   "metadata": {},
   "source": [
    "# 5. Write a Python program:\n",
    "\n",
    "i. To calculate the length of a string\n",
    "\n",
    "ii. To reverse words in a string\n",
    "\n",
    "iii. To display the same string multiple times\n",
    "\n",
    "iv. To concatenate two strings\n",
    "\n",
    "v. Str1=” South India”, using string slicing to display “India”"
   ]
  },
  {
   "cell_type": "code",
   "execution_count": 40,
   "id": "f683b21e",
   "metadata": {},
   "outputs": [
    {
     "data": {
      "text/plain": [
       "8"
      ]
     },
     "execution_count": 40,
     "metadata": {},
     "output_type": "execute_result"
    }
   ],
   "source": [
    "str=\"bhargavi\"\n",
    "len(str)"
   ]
  },
  {
   "cell_type": "code",
   "execution_count": 42,
   "id": "f62e9044",
   "metadata": {},
   "outputs": [
    {
     "data": {
      "text/plain": [
       "'ivagrahb'"
      ]
     },
     "execution_count": 42,
     "metadata": {},
     "output_type": "execute_result"
    }
   ],
   "source": [
    "str[::-1]"
   ]
  },
  {
   "cell_type": "code",
   "execution_count": 43,
   "id": "5ea9235b",
   "metadata": {},
   "outputs": [
    {
     "data": {
      "text/plain": [
       "'bhargavibhargavibhargavi'"
      ]
     },
     "execution_count": 43,
     "metadata": {},
     "output_type": "execute_result"
    }
   ],
   "source": [
    "3*str"
   ]
  },
  {
   "cell_type": "code",
   "execution_count": 44,
   "id": "699907c9",
   "metadata": {},
   "outputs": [
    {
     "data": {
      "text/plain": [
       "'sangisettibhargavi'"
      ]
     },
     "execution_count": 44,
     "metadata": {},
     "output_type": "execute_result"
    }
   ],
   "source": [
    "a=\"sangisetti\"\n",
    "b=\"bhargavi\"\n",
    "a+b"
   ]
  },
  {
   "cell_type": "code",
   "execution_count": 46,
   "id": "df94e395",
   "metadata": {},
   "outputs": [
    {
     "data": {
      "text/plain": [
       "'India'"
      ]
     },
     "execution_count": 46,
     "metadata": {},
     "output_type": "execute_result"
    }
   ],
   "source": [
    "str1=\"South India\"\n",
    "str2=str1[6:]\n",
    "str2"
   ]
  },
  {
   "cell_type": "markdown",
   "id": "d96a4757",
   "metadata": {},
   "source": [
    "# 6. Perform the following:\n",
    "\n",
    "i) Creating the Dictionary.\n",
    "\n",
    "ii) Accessing values and keys in the Dictionary.\n",
    "\n",
    "iii) Updating the dictionary using a function.\n",
    "\n",
    "iv) Clear and delete the dictionary values."
   ]
  },
  {
   "cell_type": "code",
   "execution_count": 47,
   "id": "16007a28",
   "metadata": {},
   "outputs": [
    {
     "data": {
      "text/plain": [
       "{1: 'sai', 2: 'bhargavi', 3: 'sangisetti'}"
      ]
     },
     "execution_count": 47,
     "metadata": {},
     "output_type": "execute_result"
    }
   ],
   "source": [
    "d={1:'sai',2:'bhargavi',3:'sangisetti'}\n",
    "d"
   ]
  },
  {
   "cell_type": "code",
   "execution_count": 48,
   "id": "9467a459",
   "metadata": {},
   "outputs": [
    {
     "data": {
      "text/plain": [
       "'bhargavi'"
      ]
     },
     "execution_count": 48,
     "metadata": {},
     "output_type": "execute_result"
    }
   ],
   "source": [
    "d[2]"
   ]
  },
  {
   "cell_type": "code",
   "execution_count": 52,
   "id": "2a7cdfcb",
   "metadata": {},
   "outputs": [
    {
     "data": {
      "text/plain": [
       "dict_keys([1, 2, 3])"
      ]
     },
     "execution_count": 52,
     "metadata": {},
     "output_type": "execute_result"
    }
   ],
   "source": [
    "d.keys()"
   ]
  },
  {
   "cell_type": "code",
   "execution_count": 53,
   "id": "3e5691b3",
   "metadata": {},
   "outputs": [
    {
     "data": {
      "text/plain": [
       "dict_values(['sai', 'bhargavi', 'sangisetti'])"
      ]
     },
     "execution_count": 53,
     "metadata": {},
     "output_type": "execute_result"
    }
   ],
   "source": [
    "d.values()"
   ]
  },
  {
   "cell_type": "code",
   "execution_count": 55,
   "id": "0ea1fe79",
   "metadata": {},
   "outputs": [
    {
     "data": {
      "text/plain": [
       "{1: 'sai', 2: 'bhargavi', 3: 'sangisetti', 4: 'mphasis', 5: 'pune'}"
      ]
     },
     "execution_count": 55,
     "metadata": {},
     "output_type": "execute_result"
    }
   ],
   "source": [
    "d[4]='mphasis'\n",
    "d[5]='pune'\n",
    "d"
   ]
  },
  {
   "cell_type": "code",
   "execution_count": 56,
   "id": "9147351b",
   "metadata": {},
   "outputs": [
    {
     "data": {
      "text/plain": [
       "{1: 'sai',\n",
       " 2: 'bhargavi',\n",
       " 3: 'sangisetti',\n",
       " 4: 'mphasis',\n",
       " 5: 'pune',\n",
       " 6: 'company'}"
      ]
     },
     "execution_count": 56,
     "metadata": {},
     "output_type": "execute_result"
    }
   ],
   "source": [
    "d1={6:'company'}\n",
    "d.update(d1)\n",
    "d"
   ]
  },
  {
   "cell_type": "code",
   "execution_count": 57,
   "id": "86834f91",
   "metadata": {},
   "outputs": [
    {
     "data": {
      "text/plain": [
       "{1: 'sai', 2: 'bhargavi', 3: 'sangisetti', 4: 'mphasis', 5: 'pune'}"
      ]
     },
     "execution_count": 57,
     "metadata": {},
     "output_type": "execute_result"
    }
   ],
   "source": [
    "del(d[6])\n",
    "d"
   ]
  },
  {
   "cell_type": "code",
   "execution_count": 58,
   "id": "6c59ca02",
   "metadata": {},
   "outputs": [
    {
     "data": {
      "text/plain": [
       "{1: 'sai', 2: 'bhargavi', 3: 'sangisetti', 4: 'mphasis'}"
      ]
     },
     "execution_count": 58,
     "metadata": {},
     "output_type": "execute_result"
    }
   ],
   "source": [
    "del(d[5])\n",
    "d"
   ]
  },
  {
   "cell_type": "markdown",
   "id": "6e25822f",
   "metadata": {},
   "source": [
    "# 7. Python program to insert a nulmber to any position in a list."
   ]
  },
  {
   "cell_type": "code",
   "execution_count": 44,
   "id": "39bd018c",
   "metadata": {},
   "outputs": [
    {
     "data": {
      "text/plain": [
       "['mphasis', 5, 'the', 'next', 'applied']"
      ]
     },
     "execution_count": 44,
     "metadata": {},
     "output_type": "execute_result"
    }
   ],
   "source": [
    "l=['mphasis','next','applied']\n",
    "l.insert(1,5)\n",
    "l.insert(2,\"the\")\n",
    "l"
   ]
  },
  {
   "cell_type": "markdown",
   "id": "a00a7c55",
   "metadata": {},
   "source": [
    "# 8. Python program to delete an element from a list by index."
   ]
  },
  {
   "cell_type": "code",
   "execution_count": 45,
   "id": "6f95e39a",
   "metadata": {},
   "outputs": [
    {
     "data": {
      "text/plain": [
       "['mphasis', 'the', 'next', 'applied']"
      ]
     },
     "execution_count": 45,
     "metadata": {},
     "output_type": "execute_result"
    }
   ],
   "source": [
    "del l[1]\n",
    "l"
   ]
  },
  {
   "cell_type": "markdown",
   "id": "24fdb155",
   "metadata": {},
   "source": [
    "# 9. Write a program to display a number from 1 to 100."
   ]
  },
  {
   "cell_type": "code",
   "execution_count": 64,
   "id": "2d976a0d",
   "metadata": {},
   "outputs": [
    {
     "name": "stdout",
     "output_type": "stream",
     "text": [
      "1\n",
      "2\n",
      "3\n",
      "4\n",
      "5\n",
      "6\n",
      "7\n",
      "8\n",
      "9\n",
      "10\n",
      "11\n",
      "12\n",
      "13\n",
      "14\n",
      "15\n",
      "16\n",
      "17\n",
      "18\n",
      "19\n",
      "20\n",
      "21\n",
      "22\n",
      "23\n",
      "24\n",
      "25\n",
      "26\n",
      "27\n",
      "28\n",
      "29\n",
      "30\n",
      "31\n",
      "32\n",
      "33\n",
      "34\n",
      "35\n",
      "36\n",
      "37\n",
      "38\n",
      "39\n",
      "40\n",
      "41\n",
      "42\n",
      "43\n",
      "44\n",
      "45\n",
      "46\n",
      "47\n",
      "48\n",
      "49\n",
      "50\n",
      "51\n",
      "52\n",
      "53\n",
      "54\n",
      "55\n",
      "56\n",
      "57\n",
      "58\n",
      "59\n",
      "60\n",
      "61\n",
      "62\n",
      "63\n",
      "64\n",
      "65\n",
      "66\n",
      "67\n",
      "68\n",
      "69\n",
      "70\n",
      "71\n",
      "72\n",
      "73\n",
      "74\n",
      "75\n",
      "76\n",
      "77\n",
      "78\n",
      "79\n",
      "80\n",
      "81\n",
      "82\n",
      "83\n",
      "84\n",
      "85\n",
      "86\n",
      "87\n",
      "88\n",
      "89\n",
      "90\n",
      "91\n",
      "92\n",
      "93\n",
      "94\n",
      "95\n",
      "96\n",
      "97\n",
      "98\n",
      "99\n"
     ]
    },
    {
     "data": {
      "text/plain": [
       "[None,\n",
       " None,\n",
       " None,\n",
       " None,\n",
       " None,\n",
       " None,\n",
       " None,\n",
       " None,\n",
       " None,\n",
       " None,\n",
       " None,\n",
       " None,\n",
       " None,\n",
       " None,\n",
       " None,\n",
       " None,\n",
       " None,\n",
       " None,\n",
       " None,\n",
       " None,\n",
       " None,\n",
       " None,\n",
       " None,\n",
       " None,\n",
       " None,\n",
       " None,\n",
       " None,\n",
       " None,\n",
       " None,\n",
       " None,\n",
       " None,\n",
       " None,\n",
       " None,\n",
       " None,\n",
       " None,\n",
       " None,\n",
       " None,\n",
       " None,\n",
       " None,\n",
       " None,\n",
       " None,\n",
       " None,\n",
       " None,\n",
       " None,\n",
       " None,\n",
       " None,\n",
       " None,\n",
       " None,\n",
       " None,\n",
       " None,\n",
       " None,\n",
       " None,\n",
       " None,\n",
       " None,\n",
       " None,\n",
       " None,\n",
       " None,\n",
       " None,\n",
       " None,\n",
       " None,\n",
       " None,\n",
       " None,\n",
       " None,\n",
       " None,\n",
       " None,\n",
       " None,\n",
       " None,\n",
       " None,\n",
       " None,\n",
       " None,\n",
       " None,\n",
       " None,\n",
       " None,\n",
       " None,\n",
       " None,\n",
       " None,\n",
       " None,\n",
       " None,\n",
       " None,\n",
       " None,\n",
       " None,\n",
       " None,\n",
       " None,\n",
       " None,\n",
       " None,\n",
       " None,\n",
       " None,\n",
       " None,\n",
       " None,\n",
       " None,\n",
       " None,\n",
       " None,\n",
       " None,\n",
       " None,\n",
       " None,\n",
       " None,\n",
       " None,\n",
       " None,\n",
       " None]"
      ]
     },
     "execution_count": 64,
     "metadata": {},
     "output_type": "execute_result"
    }
   ],
   "source": [
    "l=range(1,100)\n",
    "list(map(print,l))"
   ]
  },
  {
   "cell_type": "markdown",
   "id": "1a9f6ec2",
   "metadata": {},
   "source": [
    "# 10. Write a Python program to find the sum of all items in a tuple."
   ]
  },
  {
   "cell_type": "code",
   "execution_count": 46,
   "id": "4910dc00",
   "metadata": {},
   "outputs": [
    {
     "data": {
      "text/plain": [
       "16"
      ]
     },
     "execution_count": 46,
     "metadata": {},
     "output_type": "execute_result"
    }
   ],
   "source": [
    "import math\n",
    "t=(1,2,3,4,6)\n",
    "add=math.fsum(t)\n",
    "int(add)"
   ]
  },
  {
   "cell_type": "markdown",
   "id": "7822daa4",
   "metadata": {},
   "source": [
    "# 11. Create a dictionary containing three lambda functions square, cube and square root.\n",
    "\n",
    "i) E.g. dict = {'Square': function for squaring, 'Cube': function for cube, 'Squareroot':\n",
    "\n",
    "function for square root}\n",
    "\n",
    "ii) Pass the values (input from the user) to the functions in the dictionary respectively.\n",
    "\n",
    "iii) Then add the outputs of each function and print it."
   ]
  },
  {
   "cell_type": "code",
   "execution_count": 9,
   "id": "ce533075",
   "metadata": {},
   "outputs": [
    {
     "name": "stdout",
     "output_type": "stream",
     "text": [
      "Enter a number: 5\n",
      "square of 5.0 is 25.0\n",
      "cube of 5.0 is 125.0\n",
      "squareroot of 5.0 is 2.23606797749979\n",
      "Sum of the outputs: 152.2360679774998\n"
     ]
    }
   ],
   "source": [
    "import math\n",
    "f_dict = {\n",
    "    'square': lambda x: x** 2,\n",
    "    'cube': lambda x: x** 3,\n",
    "    'squareroot': lambda x: math.sqrt(x)\n",
    "}\n",
    "num= float(input(\"Enter a number: \"))\n",
    "total = 0 \n",
    "for func_name, func in f_dict.items():\n",
    "    result = func(num)\n",
    "    print(f\"{func_name} of {num} is {result}\")\n",
    "    total+=result\n",
    "print(\"Sum of the outputs:\", total)"
   ]
  },
  {
   "cell_type": "markdown",
   "id": "4d60670a",
   "metadata": {},
   "source": [
    "# 12. A list of words is given. Find the words from the list that have their second character in uppercase.\n",
    "\n",
    "ls = ['hello', 'Dear', 'hOw', 'ARe', 'You']"
   ]
  },
  {
   "cell_type": "code",
   "execution_count": 52,
   "id": "6685b648",
   "metadata": {},
   "outputs": [
    {
     "name": "stdout",
     "output_type": "stream",
     "text": [
      "wrds with second char in uppercase ['hOw', 'ARe']\n"
     ]
    }
   ],
   "source": [
    "ls = ['hello', 'Dear', 'hOw', 'ARe', 'You']\n",
    "sec_upp=[]\n",
    "for w in ls:\n",
    "    if w[1].isupper():\n",
    "        sec_upp.append(w)\n",
    "print(\"wrds with second char in uppercase\",sec_upp)"
   ]
  },
  {
   "cell_type": "markdown",
   "id": "f247b37d",
   "metadata": {},
   "source": [
    "# 13. A dictionary of names and their weights on earth is given. Find how much they will weigh on the\n",
    "\n",
    "moon. (Use map and lambda functions) Formula : wMoon = (wEarth * GMoon) / GEarth\n",
    "\n",
    "i) # Weight of people in kg\n",
    "\n",
    "• WeightOnEarth = {'John':45, 'Shelly':65, 'Marry':35}\n",
    "\n",
    "ii) # Gravitational force on the Moon: 1.622 m/s2\n",
    "\n",
    "• GMoon = 1.622\n",
    "\n",
    "iii) # Gravitational force on the Earth: 9.81 m/s2\n",
    "\n",
    "• GEarth = 9.81"
   ]
  },
  {
   "cell_type": "code",
   "execution_count": 3,
   "id": "494bd174",
   "metadata": {
    "scrolled": true
   },
   "outputs": [
    {
     "name": "stdout",
     "output_type": "stream",
     "text": [
      "{'John': 7.440366972477065, 'Shelly': 10.747196738022426, 'Marry': 5.786952089704383}\n"
     ]
    }
   ],
   "source": [
    "WEarth = {'John': 45, 'Shelly': 65, 'Marry': 35}\n",
    "GMoon = 1.622\n",
    "GEarth = 9.81\n",
    "WMoon={}\n",
    "WMoon = list(map(lambda name, weight: (weight * GMoon) / GEarth, WEarth.keys(), WEarth.values()))\n",
    "WMoonDict = dict(zip(WEarth.keys(), WMoon))\n",
    "print(WMoonDict)\n",
    "\n",
    "\n",
    "\n",
    "\n",
    "\n",
    "\n"
   ]
  },
  {
   "cell_type": "markdown",
   "id": "e0eab814",
   "metadata": {},
   "source": [
    "# 1. Write a python program to find the first N Prime numbers."
   ]
  },
  {
   "cell_type": "code",
   "execution_count": 19,
   "id": "a134bf07",
   "metadata": {},
   "outputs": [
    {
     "name": "stdout",
     "output_type": "stream",
     "text": [
      "enter a number:50\n",
      "3 5 7 9 11 13 15 17 19 21 23 25 27 29 31 33 35 37 39 41 43 45 47 49 "
     ]
    }
   ],
   "source": [
    "def prime(num):\n",
    "    if num<=1:\n",
    "        return False\n",
    "    for i in range(2,num):\n",
    "        if(num%i==0):\n",
    "            return False\n",
    "        else:\n",
    "            return True\n",
    "n=int(input(\"enter a number:\"))\n",
    "for i in range(n+1):\n",
    "    if prime(i):\n",
    "        print(i,end=\" \")\n"
   ]
  },
  {
   "cell_type": "markdown",
   "id": "9269b5e0",
   "metadata": {},
   "source": [
    "# 2. Write the python code that calculates the salary of an employee. Prompt the user to enter the\n",
    "\n",
    "Basic Salary, HRA, TA, and DA. Add these components to calculate the Gross Salary. Also, deduct\n",
    "\n",
    "10% of salary from the Gross Salary to be paid as tax and display gross minus tax as net salary."
   ]
  },
  {
   "cell_type": "code",
   "execution_count": 47,
   "id": "2476e3a7",
   "metadata": {},
   "outputs": [
    {
     "name": "stdout",
     "output_type": "stream",
     "text": [
      "Enter Basic Salary: 15000\n",
      "Enter HRA: 3000\n",
      "Enter TA: 1500\n",
      "Enter DA: 1500\n",
      "18900.0\n"
     ]
    }
   ],
   "source": [
    "basic_salary = float(input(\"Enter Basic Salary: \"))\n",
    "hra = float(input(\"Enter HRA: \"))\n",
    "ta = float(input(\"Enter TA: \"))\n",
    "da = float(input(\"Enter DA: \"))\n",
    "gross_salary = basic_salary + hra + ta + da\n",
    "tax = 0.10 * gross_salary\n",
    "net_salary = gross_salary - tax\n",
    "print(net_salary)"
   ]
  },
  {
   "cell_type": "markdown",
   "id": "cf6c987b",
   "metadata": {},
   "source": [
    "# 3.Write a python program to search for a string in the given list."
   ]
  },
  {
   "cell_type": "code",
   "execution_count": 88,
   "id": "f97f6485",
   "metadata": {},
   "outputs": [
    {
     "name": "stdout",
     "output_type": "stream",
     "text": [
      "enter the string you want to search forgi\n",
      "gi is not there in the list\n"
     ]
    }
   ],
   "source": [
    "a=['sai','bhag','si','bhanu','mad']\n",
    "str=input(\"enter the string you want to search for\")\n",
    "if str in a:\n",
    "    print(str+\" is found\")\n",
    "else:\n",
    "    print(str+\" is not there in the list\")"
   ]
  },
  {
   "cell_type": "markdown",
   "id": "6aa4bb34",
   "metadata": {},
   "source": [
    "# 4.Write a Python function that accepts a string and calculates the number of upper-case letters and\n",
    "\n",
    "lower-case letters."
   ]
  },
  {
   "cell_type": "code",
   "execution_count": 4,
   "id": "d41ffd7a",
   "metadata": {},
   "outputs": [
    {
     "name": "stdout",
     "output_type": "stream",
     "text": [
      "enter a string: GitHub\n",
      "The no of lowercase chars is: 4\n",
      "The no of uppercase chars is: 2\n"
     ]
    }
   ],
   "source": [
    "def count(s):\n",
    "    lower=0\n",
    "    upper=0\n",
    "    for i in Str:\n",
    "        if(i.islower()):\n",
    "              lower+=1\n",
    "        else:\n",
    "            upper+=1\n",
    "    return lower,upper\n",
    "\n",
    "Str=input(\"enter a string: \")\n",
    "l,u=count(Str)\n",
    "print(\"The no of lowercase chars is:\",l)\n",
    "print(\"The no of uppercase chars is:\",u)"
   ]
  },
  {
   "cell_type": "markdown",
   "id": "a10d5764",
   "metadata": {},
   "source": [
    "# 5. Write a program to display the sum of odd numbers and even numbers that fall between 12 and\n",
    "\n",
    "37."
   ]
  },
  {
   "cell_type": "code",
   "execution_count": 91,
   "id": "21d9e46d",
   "metadata": {},
   "outputs": [
    {
     "name": "stdout",
     "output_type": "stream",
     "text": [
      "Sum of odd numbers between 12 and 37: 325\n",
      "Sum of even numbers between 12 and 37: 312\n"
     ]
    }
   ],
   "source": [
    "sodd = 0\n",
    "seven = 0\n",
    "for n in range(12, 38):\n",
    "    if n % 2 == 1:\n",
    "        sodd += n\n",
    "    else:\n",
    "        seven += n\n",
    "print(\"Sum of odd numbers between 12 and 37:\", sodd)\n",
    "print(\"Sum of even numbers between 12 and 37:\", seven)"
   ]
  },
  {
   "cell_type": "markdown",
   "id": "3b2b66c2",
   "metadata": {},
   "source": [
    "# 6. Write a python Program to print the table of any number."
   ]
  },
  {
   "cell_type": "code",
   "execution_count": 9,
   "id": "81c9f653",
   "metadata": {},
   "outputs": [
    {
     "name": "stdout",
     "output_type": "stream",
     "text": [
      "enter which table u want:12\n",
      "till which number:6\n",
      "12 * 1 = 12\n",
      "12 * 2 = 24\n",
      "12 * 3 = 36\n",
      "12 * 4 = 48\n",
      "12 * 5 = 60\n",
      "12 * 6 = 72\n"
     ]
    }
   ],
   "source": [
    "n=int(input(\"enter which table u want:\"))\n",
    "num=int(input(\"till which number:\"))\n",
    "m=1\n",
    "for i in range(1,num+1):\n",
    "    m=n*i\n",
    "    print(n,\"*\",i,\"=\",m)\n",
    "    "
   ]
  },
  {
   "cell_type": "markdown",
   "id": "55bb9163",
   "metadata": {},
   "source": [
    "# 7. Write a Python program to sum the first 10 prime numbers."
   ]
  },
  {
   "cell_type": "code",
   "execution_count": 17,
   "id": "d77eae0c",
   "metadata": {},
   "outputs": [
    {
     "name": "stdout",
     "output_type": "stream",
     "text": [
      "The sum of the first 10 prime numbers is: 129\n"
     ]
    }
   ],
   "source": [
    "def is_prime(number):\n",
    "    if number <=1:\n",
    "        return False \n",
    "    elif number <= 3: \n",
    "        return True \n",
    "    elif number % 2==0 or number % 3 == 0: \n",
    "        return False \n",
    "    i=5 \n",
    "    while i *i <= number: \n",
    "        if number % i == 0 or number % (i+2) == 0: \n",
    "            return False\n",
    "        i+=6\n",
    "    return True\n",
    "\n",
    "def sum_first_n_primes(N): \n",
    "    prime_numbers = []\n",
    "    number= 2\n",
    "    while len(prime_numbers) < N:\n",
    "        if is_prime(number):\n",
    "            prime_numbers.append(number) \n",
    "        number += 1 \n",
    "    return sum(prime_numbers)\n",
    "N=10\n",
    "sum_of_primes = sum_first_n_primes(N)\n",
    "print(f\"The sum of the first {N} prime numbers is: {sum_of_primes}\")"
   ]
  },
  {
   "cell_type": "markdown",
   "id": "fcf7a700",
   "metadata": {},
   "source": [
    "# 8. Write a python program to implement arithmetic operations using nested ifstatement."
   ]
  },
  {
   "cell_type": "code",
   "execution_count": 20,
   "id": "43d4c3b0",
   "metadata": {},
   "outputs": [
    {
     "name": "stdout",
     "output_type": "stream",
     "text": [
      "Enter the first number: 10\n",
      "Enter the second number: 2\n",
      "Enter an arithmetic operator (+, -, *, /): /\n",
      "The result of 10.0 / 2.0 is 5.0\n"
     ]
    }
   ],
   "source": [
    "num1 = float(input(\"Enter the first number: \"))\n",
    "num2 = float(input(\"Enter the second number: \"))\n",
    "operator = input(\"Enter an arithmetic operator (+, -, *, /): \")\n",
    "if operator == '+':\n",
    "        result = num1 + num2\n",
    "elif operator == '-':\n",
    "        result = num1 - num2\n",
    "elif operator == '*':\n",
    "        result = num1 * num2\n",
    "elif operator == '/':\n",
    "       if num2!=0:\n",
    "            result=num1/num2\n",
    "       else:\n",
    "        result=\"error division by zero not possible\"\n",
    "print(\"The result of\", num1, operator, num2,\"is\", result)\n"
   ]
  },
  {
   "cell_type": "markdown",
   "id": "33f5942b",
   "metadata": {},
   "source": [
    "# 9. Write a python program to take the temperature in Celsius and convert it to a Fahrenheit."
   ]
  },
  {
   "cell_type": "code",
   "execution_count": 20,
   "id": "5fffecba",
   "metadata": {},
   "outputs": [
    {
     "name": "stdout",
     "output_type": "stream",
     "text": [
      "Enter temperature in Celsius: 45\n",
      "45.0  degrees Celsius is equal to 113.0 degrees Fahrenheit\n"
     ]
    }
   ],
   "source": [
    "celsius = float(input(\"Enter temperature in Celsius: \"))\n",
    "fahrenheit = (celsius * 9/5) + 32\n",
    "print(celsius,\" degrees Celsius is equal to\", fahrenheit, \"degrees Fahrenheit\")\n"
   ]
  },
  {
   "cell_type": "markdown",
   "id": "00730441",
   "metadata": {},
   "source": [
    "# 10.Write a python program to find a maximum and minimum number in a list without using an\n",
    "inbuilt function."
   ]
  },
  {
   "cell_type": "code",
   "execution_count": 27,
   "id": "d15cbd5c",
   "metadata": {},
   "outputs": [
    {
     "name": "stdout",
     "output_type": "stream",
     "text": [
      "minimum value is: -75\n",
      "maximum value is: 9000\n"
     ]
    }
   ],
   "source": [
    "list=[0, 9000, 5, -40, -5, 42, 17, -28,88,-75]\n",
    "l = 0\n",
    "s = 0\n",
    "for num in list:\n",
    "    if num > l:\n",
    "      l = num\n",
    "    elif num< s:\n",
    "        s = num\n",
    "print(\"minimum value is:\",s)\n",
    "print(\"maximum value is:\",l)\n",
    "\n"
   ]
  },
  {
   "cell_type": "markdown",
   "id": "b5414edb",
   "metadata": {},
   "source": [
    "# 11.Write a program in python to print out the number of seconds in 30-day month 30 days, 24 hours\n",
    "\n",
    "in a day, 60 minutes per day, 60 seconds in aminute."
   ]
  },
  {
   "cell_type": "code",
   "execution_count": 28,
   "id": "36898367",
   "metadata": {},
   "outputs": [
    {
     "name": "stdout",
     "output_type": "stream",
     "text": [
      "There are 2592000 seconds in a 30-day month.\n"
     ]
    }
   ],
   "source": [
    "day = 30\n",
    "hours = 24\n",
    "min = 60\n",
    "sec= 60\n",
    "nofsec = day * hours * min* sec\n",
    "print(\"There are\", nofsec,\" seconds in a 30-day month.\")\n"
   ]
  },
  {
   "cell_type": "markdown",
   "id": "ef3a47b1",
   "metadata": {},
   "source": [
    "# 12. Write a program in python to print out the number of seconds in a year."
   ]
  },
  {
   "cell_type": "code",
   "execution_count": 55,
   "id": "cfc7a11e",
   "metadata": {},
   "outputs": [
    {
     "name": "stdout",
     "output_type": "stream",
     "text": [
      "Enter a year: 2005\n",
      "There are 31536000 seconds in the year 2005\n"
     ]
    }
   ],
   "source": [
    "# normal_year = 365\n",
    "leap_year = 366\n",
    "hours = 24\n",
    "minutes = 60\n",
    "seconds = 60\n",
    "year = int(input(\"Enter a year: \"))\n",
    "is_leap_year = (year % 4 == 0 and year % 100 != 0) or (year % 400 == 0)\n",
    "if is_leap_year:\n",
    "    seconds_in_year = leap_year * hours * minutes * seconds\n",
    "else:\n",
    "    seconds_in_year = normal_year * hours * minutes * seconds\n",
    "print(\"There are\" ,seconds_in_year, \"seconds in the year\" ,year)\n"
   ]
  },
  {
   "cell_type": "markdown",
   "id": "9912ae6d",
   "metadata": {},
   "source": [
    "# 13.A high-speed train can travel at an average speed of 150 mph, how long will it take a train\n",
    "\n",
    "travelling at this speed to travel from London to Glasgow which is 414 miles away?"
   ]
  },
  {
   "cell_type": "code",
   "execution_count": 39,
   "id": "3cf82f5a",
   "metadata": {},
   "outputs": [
    {
     "name": "stdout",
     "output_type": "stream",
     "text": [
      "It takes 2.76 hours for the train to travel from London to Glasgow at 150 mph.\n"
     ]
    }
   ],
   "source": [
    "speed = 150\n",
    "distance = 414\n",
    "time = distance / speed\n",
    "print(f\"It takes {time} hours for the train to travel from London to Glasgow at {speed} mph.\")\n"
   ]
  },
  {
   "cell_type": "markdown",
   "id": "1cbbd45a",
   "metadata": {},
   "source": [
    "# 14. Write a python program that defines a variable called days_in_each_school_year and assign 192 to the variable. The program should then print out the total hours that you spend in school from\n",
    "year 7 to year 11, if each day you spend 6 hours in school days_in_each_school_year = 192"
   ]
  },
  {
   "cell_type": "code",
   "execution_count": 41,
   "id": "47d132c6",
   "metadata": {},
   "outputs": [
    {
     "name": "stdout",
     "output_type": "stream",
     "text": [
      "Total hours spent in school from year 7 to year 11: 5760  hours\n"
     ]
    }
   ],
   "source": [
    "days_in_each_school_year = 192\n",
    "years = 5\n",
    "hours_in_school = years * days_in_each_school_year * 6 \n",
    "print(\"Total hours spent in school from year 7 to year 11:\",hours_in_school,\" hours\")\n"
   ]
  },
  {
   "cell_type": "markdown",
   "id": "7fceed91",
   "metadata": {},
   "source": [
    "# 15. If the age of Ram,Sam and Khan are input through the keyboard,write a python program to\n",
    "\n",
    "determine the eldest and youngest of the three."
   ]
  },
  {
   "cell_type": "code",
   "execution_count": 50,
   "id": "dd5a1834",
   "metadata": {},
   "outputs": [
    {
     "name": "stdout",
     "output_type": "stream",
     "text": [
      "Enter Ram's age: 10\n",
      "Enter Sam's age: 5\n",
      "Enter Khan's age: 8\n",
      "The eldest among Ram, Sam, and Khan is: Ram\n",
      "The youngest among Ram, Sam, and Khan is: Sam\n"
     ]
    }
   ],
   "source": [
    "ram= int(input(\"Enter Ram's age: \"))\n",
    "sam = int(input(\"Enter Sam's age: \"))\n",
    "khan = int(input(\"Enter Khan's age: \"))\n",
    "if ram>= sam and ram >= khan:\n",
    "    eldest = \"Ram\"\n",
    "elif sam >= ram and sam >= khan:\n",
    "    eldest = \"Sam\"\n",
    "else:\n",
    "    eldest = \"Khan\"\n",
    "if ram <= sam and ram<= khan:\n",
    "    youngest = \"Ram\"\n",
    "elif sam <= ram and sam <= khan:\n",
    "    youngest = \"Sam\"\n",
    "else:\n",
    "    youngest = \"Khan\"\n",
    "print(\"The eldest among Ram, Sam, and Khan is:\",eldest)\n",
    "print(\"The youngest among Ram, Sam, and Khan is:\", youngest)\n"
   ]
  },
  {
   "cell_type": "markdown",
   "id": "367ef44e",
   "metadata": {},
   "source": [
    "\n",
    "# 16. Write a python program to rotate a list by right n times with and without slicing technique."
   ]
  },
  {
   "cell_type": "code",
   "execution_count": 25,
   "id": "088dd12d",
   "metadata": {},
   "outputs": [
    {
     "name": "stdout",
     "output_type": "stream",
     "text": [
      "Enter the number of rotations: 6\n",
      "Rotated list with slicing: [5, 1, 2, 3, 4]\n"
     ]
    }
   ],
   "source": [
    "#with slicing\n",
    "def rotate_right_with_slicing(arr, n):\n",
    "    n = n % len(arr)# To handle cases where n is greater than the Length of the list\n",
    "    rotated= arr[-n:] + arr[:-n]\n",
    "    return rotated\n",
    "#Input list and number of rotations\n",
    "original_list=[1, 2, 3, 4, 5]\n",
    "rotations= int(input(\"Enter the number of rotations: \"))\n",
    "rotated_list = rotate_right_with_slicing(original_list, rotations)\n",
    "print(\"Rotated list with slicing:\", rotated_list)"
   ]
  },
  {
   "cell_type": "code",
   "execution_count": 33,
   "id": "9ed1d357",
   "metadata": {},
   "outputs": [
    {
     "name": "stdout",
     "output_type": "stream",
     "text": [
      "Enter the number of rotations: 7\n",
      "Rotated list without slicing: [4, 5, 1, 2, 3]\n"
     ]
    }
   ],
   "source": [
    "#without slicing\n",
    "def rotate_right_without_slicing(arr, n):\n",
    "    length=len(arr)\n",
    "    n=n%length\n",
    "    rotated=[0]*length\n",
    "    for i in range(length): \n",
    "        new_index=(i+n)%length\n",
    "        rotated[new_index]=arr[i]\n",
    "    return rotated\n",
    "\n",
    "original_list=[1, 2, 3, 4, 5]\n",
    "rotations=int(input(\"Enter the number of rotations: \"))\n",
    "rotated_list=rotate_right_without_slicing(original_list, rotations)\n",
    "print(\"Rotated list without slicing:\", rotated_list)"
   ]
  },
  {
   "cell_type": "markdown",
   "id": "bcab4b26",
   "metadata": {},
   "source": [
    "# 17. python program to print the patterns"
   ]
  },
  {
   "cell_type": "markdown",
   "id": "98ce91b1",
   "metadata": {},
   "source": [
    "# 1.number pattern"
   ]
  },
  {
   "cell_type": "code",
   "execution_count": 2,
   "id": "ac139028",
   "metadata": {},
   "outputs": [
    {
     "name": "stdout",
     "output_type": "stream",
     "text": [
      "enter a number:7\n",
      "1 \n",
      "1 1 \n",
      "1 2 1 \n",
      "1 3 3 1 \n",
      "1 4 6 4 1 \n",
      "1 5 10 10 5 1 \n",
      "1 6 15 20 15 6 1 \n"
     ]
    }
   ],
   "source": [
    "n=int(input(\"enter a number:\"))\n",
    "for i in range(1,n+1):\n",
    "    num=1\n",
    "    for j in range(1,i+1):\n",
    "        print(num,end=\" \")\n",
    "        num=num*(i-j)//j\n",
    "    print()"
   ]
  },
  {
   "cell_type": "markdown",
   "id": "2c94f268",
   "metadata": {},
   "source": [
    "# 2. star pattern"
   ]
  },
  {
   "cell_type": "code",
   "execution_count": 34,
   "id": "73a919f9",
   "metadata": {},
   "outputs": [
    {
     "name": "stdout",
     "output_type": "stream",
     "text": [
      "* \n",
      "* * \n",
      "* * * \n",
      "* * * * \n",
      "* * * * * \n"
     ]
    }
   ],
   "source": [
    "n = 5\n",
    "for i in range(1, n + 1):\n",
    "    for j in range(i):\n",
    "        print(\"*\", end=\" \")\n",
    "    print() \n"
   ]
  },
  {
   "cell_type": "markdown",
   "id": "890a233d",
   "metadata": {},
   "source": [
    "# 3.star pattern"
   ]
  },
  {
   "cell_type": "code",
   "execution_count": 35,
   "id": "d837a8be",
   "metadata": {},
   "outputs": [
    {
     "name": "stdout",
     "output_type": "stream",
     "text": [
      "      * \n",
      "     * * \n",
      "    * * * \n",
      "   * * * * \n",
      "  * * * * * \n",
      " * * * * * * \n",
      "* * * * * * * \n"
     ]
    }
   ],
   "source": [
    "n = 7\n",
    "for i in range(1, n + 1):\n",
    "    for j in range(n, i, -1):\n",
    "        print(\" \", end=\"\")\n",
    "    for k in range(1, i + 1):\n",
    "        print(\"*\", end=\" \")\n",
    "    print()\n"
   ]
  },
  {
   "cell_type": "markdown",
   "id": "5695eabe",
   "metadata": {},
   "source": [
    "# 4.python pattern"
   ]
  },
  {
   "cell_type": "code",
   "execution_count": 36,
   "id": "1a41daed",
   "metadata": {},
   "outputs": [
    {
     "name": "stdout",
     "output_type": "stream",
     "text": [
      "P\n",
      "Py\n",
      "Pyt\n",
      "Pyth\n",
      "Pytho\n",
      "Python\n"
     ]
    }
   ],
   "source": [
    "word = \"Python\"\n",
    "for i in range(1, len(word) + 1):\n",
    "    print(word[:i])\n"
   ]
  }
 ],
 "metadata": {
  "kernelspec": {
   "display_name": "Python 3 (ipykernel)",
   "language": "python",
   "name": "python3"
  },
  "language_info": {
   "codemirror_mode": {
    "name": "ipython",
    "version": 3
   },
   "file_extension": ".py",
   "mimetype": "text/x-python",
   "name": "python",
   "nbconvert_exporter": "python",
   "pygments_lexer": "ipython3",
   "version": "3.11.4"
  }
 },
 "nbformat": 4,
 "nbformat_minor": 5
}
