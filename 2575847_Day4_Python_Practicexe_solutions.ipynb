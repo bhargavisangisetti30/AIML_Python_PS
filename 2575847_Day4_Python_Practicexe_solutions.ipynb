{
 "cells": [
  {
   "cell_type": "markdown",
   "id": "963166dc",
   "metadata": {},
   "source": [
    "# 1. Write a python program with Exception handling to input marks for five subjects Physics,\n",
    "\n",
    "Chemistry, Biology, Mathematics, and Computer. Calculate the percentage and grade according\n",
    "\n",
    "to thefollowing:\n",
    "\n",
    "i) Percentage >= 90%: Grade A\n",
    "\n",
    "ii) Percentage >= 80%: Grade B\n",
    "\n",
    "iii) Percentage >= 70%: Grade C\n",
    "\n",
    "iv) Percentage >= 60%: Grade D\n",
    "\n",
    "v) Percentage >= 40%: Grade E\n",
    "\n",
    "vi) Percentage < 40%: Grade F"
   ]
  },
  {
   "cell_type": "code",
   "execution_count": 5,
   "id": "0b160f7c",
   "metadata": {},
   "outputs": [
    {
     "name": "stdout",
     "output_type": "stream",
     "text": [
      "Physics: 89\n",
      "Chemistry: 78\n",
      "Biology: 99\n",
      "Mathematics: 100\n",
      "Computer: 100\n",
      "Percentage: 93.2%\n",
      "Grade: A\n"
     ]
    }
   ],
   "source": [
    "try:\n",
    "    phy = float(input(\"Physics: \"))\n",
    "    chem = float(input(\"Chemistry: \"))\n",
    "    bio = float(input(\"Biology: \"))\n",
    "    maths = float(input(\"Mathematics: \"))\n",
    "    comp= float(input(\"Computer: \"))\n",
    "    total = phy+ chem + bio + maths + comp\n",
    "    per = (total/500) * 100\n",
    "    if per>= 90:\n",
    "        grade = 'A'\n",
    "    elif per >= 80:\n",
    "        grade = 'B'\n",
    "    elif per >= 70:\n",
    "        grade = 'C'\n",
    "    elif per >= 60:\n",
    "        grade = 'D'\n",
    "    elif per>= 40:\n",
    "        grade = 'E'\n",
    "    else:\n",
    "        grade = 'F'\n",
    "    print(f\"Percentage: {per}%\")\n",
    "    print(f\"Grade: {grade}\")\n",
    "except ValueError:\n",
    "    print(\"Invalid input! Please enter numerical marks for each subject.\")\n",
    "except Exception as e:\n",
    "    print(f\"An error occurred: {e}\")\n"
   ]
  },
  {
   "cell_type": "markdown",
   "id": "8835b20c",
   "metadata": {},
   "source": [
    "# 2. Write a python program with Exception handling to input electricity unit charges and calculate\n",
    "\n",
    "the total electricity bill according to the given condition:\n",
    "\n",
    "i) For the first 50 units Rs. 0.50/unit\n",
    "\n",
    "ii) For the next 100 units Rs. 0.75/unit\n",
    "\n",
    "iii) For the next 100 units Rs. 1.20/unit\n",
    "\n",
    "iv) For units above 250 Rs. 1.50/unit\n",
    "\n",
    "v) An additional surcharge of 20% is added to the bill."
   ]
  },
  {
   "cell_type": "code",
   "execution_count": 17,
   "id": "b2e3f139",
   "metadata": {},
   "outputs": [
    {
     "name": "stdout",
     "output_type": "stream",
     "text": [
      "Enter electricity units: 88\n",
      "Bill: Rs. 64.2\n"
     ]
    }
   ],
   "source": [
    "try:\n",
    "    units = float(input(\"Enter electricity units: \"))\n",
    "    bill = 0\n",
    "    s = 0\n",
    "    if units <= 50:\n",
    "        bill = units * 0.50\n",
    "    elif units <= 150:\n",
    "        bill = (50 * 0.50) + ((units - 50) * 0.75)\n",
    "    elif units <= 250:\n",
    "        bill = (50 * 0.50) + (100 * 0.75) + ((units - 150) * 1.20)\n",
    "    else:\n",
    "        bill = (50 * 0.50) + (100 * 0.75) + (100 * 1.20) + ((units - 250) * 1.50)\n",
    "    s = 0.20 * bill\n",
    "    bill += s\n",
    "    print(f\"Bill: Rs. {bill}\")\n",
    "except ValueError:\n",
    "    print(\"Invalid input! Please enter correct value.\")\n",
    "except Exception as e:\n",
    "    print(f\"An error occurred: {e}\")"
   ]
  },
  {
   "cell_type": "markdown",
   "id": "121391dd",
   "metadata": {},
   "source": [
    "# 3. Write a python program with Exception handling to input the week number and print the weekday."
   ]
  },
  {
   "cell_type": "code",
   "execution_count": 20,
   "id": "023f3814",
   "metadata": {},
   "outputs": [
    {
     "name": "stdout",
     "output_type": "stream",
     "text": [
      "Enter a no(1-7): 7\n",
      "Weekday for 7: Sunday\n"
     ]
    }
   ],
   "source": [
    "try:\n",
    "    weekn = int(input(\"Enter a no(1-7): \"))\n",
    "    weekd = {\n",
    "        1: \"Monday\",\n",
    "        2: \"Tuesday\",\n",
    "        3: \"Wednesday\",\n",
    "        4: \"Thursday\",\n",
    "        5: \"Friday\",\n",
    "        6: \"Saturday\",\n",
    "        7: \"Sunday\"\n",
    "    }\n",
    "    if 1 <= weekn <= 7:\n",
    "        weekday = weekd[weekn]\n",
    "        print(f\"Weekday for {weekn}: {weekday}\")\n",
    "    else:\n",
    "        print(\"Invalid week number! Try between 1 and 7.\")\n",
    "except ValueError:\n",
    "    print(\"Invalid input! Please enter a valid numerical.\")\n",
    "except Exception as e:\n",
    "    print(f\"An error occurred: {e}\")\n"
   ]
  },
  {
   "cell_type": "markdown",
   "id": "c2436870",
   "metadata": {},
   "source": [
    "# 4. Write a Python program to implement word count using command line arguments.\n",
    "i) Create a text document “apple.txt” whch contains text for wordcount.\n",
    "ii) Create a wordcount program which calls the “apple.txt” document by opening the file.\n",
    "iii) If the word is present again in the “aaple.txt”,the wordcount is incremented by 1 until all\n",
    "the words are counted in the document.\n",
    "iv) Close the file.\n",
    "v) Create a command.py program which imports the wordcount.py program.\n",
    "vi) Count the number of words using command line arguments.\n",
    "vii) Print each word and its count."
   ]
  },
  {
   "cell_type": "code",
   "execution_count": 9,
   "id": "8d72955b",
   "metadata": {},
   "outputs": [],
   "source": [
    "def count_words(filename):\n",
    "    try:\n",
    "        with open(filename, 'r') as file:\n",
    "            text = file.read()\n",
    "            words = text.split()\n",
    "            word_count = {}\n",
    "            for word in words:\n",
    "                if word in word_count:\n",
    "                    word_count[word] += 1\n",
    "                else:\n",
    "                    word_count[word] = 1\n",
    "            return word_count\n",
    "    \n",
    "    except FileNotFoundError:\n",
    "        print(f\"Error: File '{filename}' not found.\")\n",
    "    except Exception as e:\n",
    "        print(f\"An error occurred: {str(e)}\")\n",
    "if __name__ == \"_main_\":\n",
    "    import sys\n",
    "    if len(sys.argv) != 2:\n",
    "        print(\"Usage: python wordcount.py <filename>\")\n",
    "    else:\n",
    "        filename = sys.argv[1]\n",
    "        word_count = count_words(filename)\n",
    "        if word_count:\n",
    "            for word, count in word_count.items():\n",
    "                print(f\"{word}: {count} occurrences\")"
   ]
  },
  {
   "cell_type": "markdown",
   "id": "360198f1",
   "metadata": {},
   "source": [
    "# 5.Write a Python program for finding the most frequent words in a text read from a file.\n",
    "i) Initially open the text file in read mode.\n",
    "ii) Make all the letters in the document into lowercase letters and split the words in each line.\n",
    "iii) Get the words in an order.\n",
    "iv) Sort the words for finding the most frequent words in the file.\n",
    "v) Print the most frequent words in the file."
   ]
  },
  {
   "cell_type": "code",
   "execution_count": 6,
   "id": "4e5a4bbc",
   "metadata": {},
   "outputs": [
    {
     "name": "stdout",
     "output_type": "stream",
     "text": [
      "Top 5 most frequent words:\n",
      "mphasis: 2 times\n",
      "welcome: 2 times\n",
      "to: 2 times\n",
      "learning: 2 times\n",
      "your: 2 times\n"
     ]
    }
   ],
   "source": [
    "from collections import Counter\n",
    "file_path = \"Day4_ps5.txt\" \n",
    "try:\n",
    "    with open(file_path, 'r') as file:\n",
    "        text = file.read()\n",
    "        words = text.lower().split()\n",
    "        word_counts = Counter(words)\n",
    "        sorted_words = sorted(word_counts.items(), key=lambda x: x[1], reverse=True)\n",
    "        num_words_to_print = 5 \n",
    "        print(f\"Top {num_words_to_print} most frequent words:\")\n",
    "        for word, count in sorted_words[:num_words_to_print]:\n",
    "            print(f\"{word}: {count} times\")\n",
    "except FileNotFoundError:\n",
    "    print(f\"File not found: {file_path}\")\n",
    "except Exception as e:\n",
    "    print(f\"An error occurred: {e}\")\n"
   ]
  },
  {
   "cell_type": "markdown",
   "id": "84191992",
   "metadata": {},
   "source": [
    "# 6. File Processing with Command-Line Arguments- Scenario: You are developing a command-line utility that processes text files. Users can specify input and output file paths as command-line arguments. Your program should handle exceptions gracefully.\n",
    "i. Design a Python program that takes two command-line arguments: the input file path and the output file path. Ensure that the program checks if both arguments are provided and that the input file exists.\n",
    "ii. Implement error handling to deal with scenarios such as missing input files, invalid file paths, or permission issues when writing to the output file.\n",
    "iii. If an error occurs during file processing, display a user-friendly error message,and exit the program with a non-zero exit code.\n",
    "iv. Write test cases that cover various scenarios, including providing valid and invalid file paths as command-line argument"
   ]
  },
  {
   "cell_type": "code",
   "execution_count": null,
   "id": "343e830a",
   "metadata": {},
   "outputs": [],
   "source": [
    "import sys\n",
    "def process_text_file(input_file, output_file):\n",
    "    try:\n",
    "        with open(input_file, 'r') as input_file:\n",
    "                c=input_file.read()\n",
    "                print(\"successful\")\n",
    "        with open(output_file, 'w') as out_file:\n",
    "                out_file.write(c)\n",
    "    except FileNotFoundError:\n",
    "        print(f\"Error: Input file '{input_file}' not found.\")\n",
    "        sys.exit(1)\n",
    "    except PermissionError:\n",
    "        print(f\"Error: Permission denied for '{output_file}'.\")\n",
    "        sys.exit(1)\n",
    "    except Exception as e:\n",
    "        print(f\"An error occurred: {e}\")\n",
    "        sys.exit(1)\n",
    "if __name__ == \"__main__\":\n",
    "    if len(sys.argv) != 3:\n",
    "        print(\"Usage: python file_processor.py <input_file> <output_file>\")\n",
    "        sys.exit(1)\n",
    "    input_file = sys.argv[1]\n",
    "    output_file = sys.argv[2]\n",
    "    process_text_file(input_file, output_file)"
   ]
  }
 ],
 "metadata": {
  "kernelspec": {
   "display_name": "Python 3 (ipykernel)",
   "language": "python",
   "name": "python3"
  },
  "language_info": {
   "codemirror_mode": {
    "name": "ipython",
    "version": 3
   },
   "file_extension": ".py",
   "mimetype": "text/x-python",
   "name": "python",
   "nbconvert_exporter": "python",
   "pygments_lexer": "ipython3",
   "version": "3.11.4"
  }
 },
 "nbformat": 4,
 "nbformat_minor": 5
}
