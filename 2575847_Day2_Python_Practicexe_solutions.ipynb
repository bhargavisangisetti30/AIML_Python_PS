{
 "cells": [
  {
   "cell_type": "markdown",
   "id": "8b3efc59",
   "metadata": {},
   "source": [
    "# 1. Write a python Function to list even and odd numbers in a list."
   ]
  },
  {
   "cell_type": "code",
   "execution_count": 42,
   "id": "f9598e69",
   "metadata": {},
   "outputs": [
    {
     "name": "stdout",
     "output_type": "stream",
     "text": [
      "Even numbers: [6, 12, 18, 24]\n",
      "Odd numbers: [3, 9, 15, 21, 27]\n"
     ]
    }
   ],
   "source": [
    "def evod_no(n):\n",
    "    even = []\n",
    "    odd = []\n",
    "    for num in n:\n",
    "        if num % 2 == 0:\n",
    "            even.append(num)\n",
    "        else:\n",
    "            odd.append(num)\n",
    "    return even, odd\n",
    "numlist = [3,6,9,12,15,18,21,24,27]\n",
    "e, o = evod_no(numlist)\n",
    "print(\"Even numbers:\", e)\n",
    "print(\"Odd numbers:\", o)\n"
   ]
  },
  {
   "cell_type": "markdown",
   "id": "e011f1d4",
   "metadata": {},
   "source": [
    "# 2. Write and run a Python program that asks the user to enter 8 integers (one at a time), and then\n",
    "\n",
    "prints out how many of those integers were even numbers. For example, if the user entered 19,\n",
    "\n",
    "6, 9, 20, 13, 7, 6, and 1, then your program should print out 3 since 3 of those numbers were\n",
    "\n",
    "even."
   ]
  },
  {
   "cell_type": "code",
   "execution_count": 64,
   "id": "06f7a28e",
   "metadata": {},
   "outputs": [
    {
     "name": "stdout",
     "output_type": "stream",
     "text": [
      "Enter integer:1\n",
      "Enter integer:2\n",
      "Enter integer:3\n",
      "Enter integer:4\n",
      "Enter integer:5\n",
      "Enter integer:6\n",
      "Enter integer:7\n",
      "Enter integer:8\n",
      "Out of the 8 integers entered 4  of them are even.\n"
     ]
    }
   ],
   "source": [
    "count = 0\n",
    "for i in range(8):\n",
    "    try:\n",
    "        user_input = int(input(\"Enter integer:\"))\n",
    "        if user_input % 2 == 0:\n",
    "            count += 1\n",
    "    except ValueError:\n",
    "        print(\" not an integer.\")\n",
    "print(\"Out of the 8 integers entered\", count,\" of them are even.\")\n"
   ]
  },
  {
   "cell_type": "markdown",
   "id": "fb7dd4e3",
   "metadata": {},
   "source": [
    "# 3. Write a Python program where you take any positive integer n, if n is even, divide it by 2 to get n /2. If n is odd, multiply it by 3 and add 1 to obtain 3n + 1. Repeat the process until you reach 1."
   ]
  },
  {
   "cell_type": "code",
   "execution_count": 11,
   "id": "3339994f",
   "metadata": {},
   "outputs": [
    {
     "name": "stdout",
     "output_type": "stream",
     "text": [
      "enter any positive int:15\n",
      "[15, 46, 23.0, 70.0, 35.0, 106.0, 53.0, 160.0, 80.0, 40.0, 20.0, 10.0, 5.0, 16.0, 8.0, 4.0, 2.0, 1.0]\n"
     ]
    }
   ],
   "source": [
    "def seq(n):\n",
    "    nseq = [n]\n",
    "    if n < 1:\n",
    "       return []\n",
    "    while n > 1:\n",
    "       if n % 2 == 0:\n",
    "         n = n / 2\n",
    "       else:\n",
    "         n = 3 * n + 1\n",
    "       nseq.append(n)    \n",
    "    return nseq\n",
    "n=int(input(\"enter any positive int:\"))\n",
    "print(seq(n))"
   ]
  },
  {
   "cell_type": "markdown",
   "id": "f44735b9",
   "metadata": {},
   "source": [
    "# 4. Write a Python program to compute the sum of all the multiples of 3 or 5 below 500."
   ]
  },
  {
   "cell_type": "code",
   "execution_count": 1,
   "id": "5430b2aa",
   "metadata": {},
   "outputs": [
    {
     "name": "stdout",
     "output_type": "stream",
     "text": [
      "sum of multiples of 3 or 5 below 500 is: 57918\n"
     ]
    }
   ],
   "source": [
    "sum = 0\n",
    "for i in range(1,500):\n",
    "     if i % 5==0 or i % 3==0:\n",
    "         sum = sum + i\n",
    "print(\"sum of multiples of 3 or 5 below 500 is:\",sum)"
   ]
  },
  {
   "cell_type": "markdown",
   "id": "b2408a30",
   "metadata": {},
   "source": [
    "# 5. To write a Python program to find first 'n' prime numbers from a list of given numbers."
   ]
  },
  {
   "cell_type": "code",
   "execution_count": 2,
   "id": "b37703a6",
   "metadata": {},
   "outputs": [
    {
     "name": "stdout",
     "output_type": "stream",
     "text": [
      "Enter a number:5\n",
      "Prime numbers:  [3, 5, 7, 13, 15]\n"
     ]
    }
   ],
   "source": [
    "def prime(n):\n",
    "    if n<=1: \n",
    "        return False\n",
    "    for i in range(2,n):\n",
    "        if(n%i==0):\n",
    "            return False\n",
    "        else:\n",
    "            return True\n",
    "lst = [1,2,8,55,15,3, 5,30, 7, 25, 13, 17, 19, 29, 33, 37, 41, 43, 47, 51, 55, 62]\n",
    "prime_nums = []\n",
    "num = 1\n",
    "n = int(input(\"Enter a number:\"))\n",
    "while len(prime_nums) < n: \n",
    "    if num in lst and prime (num):\n",
    "            prime_nums.append(num)\n",
    "    num += 1\n",
    "print(\"Prime numbers: \", prime_nums)"
   ]
  },
  {
   "cell_type": "markdown",
   "id": "41e3b5d0",
   "metadata": {},
   "source": [
    "# 6. To write a Python program to compute matrix multiplication."
   ]
  },
  {
   "cell_type": "code",
   "execution_count": 11,
   "id": "e3b9c2ec",
   "metadata": {},
   "outputs": [
    {
     "name": "stdout",
     "output_type": "stream",
     "text": [
      "[[11 18  9]\n",
      " [16 28 14]\n",
      " [ 8 24 12]]\n"
     ]
    }
   ],
   "source": [
    "import numpy as np\n",
    "i=[[2,3,4],[3,5,6],[4,5,3]]\n",
    "j=[[1,2,1],[-1,2,1],[3,2,1]]\n",
    "r=np.dot(i,j)\n",
    "print(r)"
   ]
  },
  {
   "cell_type": "markdown",
   "id": "433314b9",
   "metadata": {},
   "source": [
    "# 7. Write a python Function to count the number of vowels in a string."
   ]
  },
  {
   "cell_type": "code",
   "execution_count": 18,
   "id": "9c72fa54",
   "metadata": {},
   "outputs": [
    {
     "name": "stdout",
     "output_type": "stream",
     "text": [
      "Enter the string :bhargavi\n",
      "Total vowels are : 3\n"
     ]
    }
   ],
   "source": [
    "Str = input('Enter the string :')\n",
    "count = 0\n",
    "Str = Str.lower()\n",
    "for i in Str:\n",
    "    if i == 'a' or i == 'e' or i == 'i' or i == 'o' or i == 'u':\n",
    "        count+=1\n",
    "if count == 0:\n",
    "    print('No vowels found')\n",
    "else:\n",
    "    print('Total vowels are :', count)"
   ]
  },
  {
   "cell_type": "markdown",
   "id": "6f93a793",
   "metadata": {},
   "source": [
    "# 8. Write a python Function for finding factorial for the given number using a recursive function."
   ]
  },
  {
   "cell_type": "code",
   "execution_count": 21,
   "id": "acff5fb8",
   "metadata": {},
   "outputs": [
    {
     "name": "stdout",
     "output_type": "stream",
     "text": [
      "enter a number:6\n",
      "The factorial of 6 is 720\n"
     ]
    }
   ],
   "source": [
    "def frec(n):\n",
    "    if n == 0:  \n",
    "        return 1\n",
    "    else:\n",
    "        return n * frec(n - 1)\n",
    "n=int(input(\"enter a number:\"))\n",
    "r = frec(n)\n",
    "print(\"The factorial of\", n,\"is\", r)\n"
   ]
  },
  {
   "cell_type": "markdown",
   "id": "2fcc7ff5",
   "metadata": {},
   "source": [
    "# 9. Write a python Function for generating the Fibonacci series using the function."
   ]
  },
  {
   "cell_type": "code",
   "execution_count": 5,
   "id": "27fa95b9",
   "metadata": {},
   "outputs": [
    {
     "name": "stdout",
     "output_type": "stream",
     "text": [
      "enter a num: 5\n",
      "finonacci series:  [0, 1, 1, 2, 3]\n"
     ]
    }
   ],
   "source": [
    "def fib(n):\n",
    "    a,b=0,1\n",
    "    fib_series=[] \n",
    "    for i in range(n):\n",
    "        fib_series.append(a) \n",
    "        a,b=b,a+b \n",
    "    return fib_series\n",
    "n=int(input('enter a num: ')) \n",
    "print('finonacci series: ', fib(n))"
   ]
  },
  {
   "cell_type": "markdown",
   "id": "60aa1a4b",
   "metadata": {},
   "source": [
    "# 10. Python program to display the given integer in reverse order using the function without an in- built\n",
    "\n",
    "function."
   ]
  },
  {
   "cell_type": "code",
   "execution_count": 35,
   "id": "25914347",
   "metadata": {},
   "outputs": [
    {
     "name": "stdout",
     "output_type": "stream",
     "text": [
      "Enter a number: 123456789\n",
      "Reversed number: 987654321\n"
     ]
    }
   ],
   "source": [
    "def revno(n):\n",
    "    if n < 10:\n",
    "        return n\n",
    "    else:\n",
    "        ld= n % 10\n",
    "        rem = n // 10\n",
    "        rev = revno(rem)\n",
    "        return int(str(ld) + str(rev))\n",
    " \n",
    "number = int(input(\"Enter a number: \"))\n",
    "rev = revno(number)\n",
    "print(\"Reversed number:\", rev)"
   ]
  },
  {
   "cell_type": "markdown",
   "id": "acb38a3f",
   "metadata": {},
   "source": [
    "# 11. Write a Python Function to display all integers within the range 200-300 whose sum of digits is an\n",
    "\n",
    "even number."
   ]
  },
  {
   "cell_type": "code",
   "execution_count": 12,
   "id": "87aa44f3",
   "metadata": {},
   "outputs": [
    {
     "name": "stdout",
     "output_type": "stream",
     "text": [
      "200 202 204 206 208 211 213 215 217 219 220 222 224 226 228 231 233 235 237 239 240 242 244 246 248 251 253 255 257 259 260 262 264 266 268 271 273 275 277 279 280 282 284 286 288 291 293 295 297 299 "
     ]
    }
   ],
   "source": [
    "def evensum():\n",
    "    for i in range(200,300):\n",
    "        s=0\n",
    "        for j in str(i):\n",
    "            s+=int(j)\n",
    "        if s%2==0:\n",
    "                print(i,end=\" \")\n",
    "evensum()\n"
   ]
  },
  {
   "cell_type": "markdown",
   "id": "96189e7e",
   "metadata": {},
   "source": [
    "# 12. Write a python Function to find the number of digits and sum of digits for a giveninteger."
   ]
  },
  {
   "cell_type": "code",
   "execution_count": 63,
   "id": "d2597aec",
   "metadata": {},
   "outputs": [
    {
     "name": "stdout",
     "output_type": "stream",
     "text": [
      "enter a number:963\n",
      "Number of digits in 963 : 3\n",
      "Sum of digits in 963 : 18\n"
     ]
    }
   ],
   "source": [
    "def count_and_sum(number):\n",
    "    digits = 0\n",
    "    dsum = 0\n",
    "    while number > 0:\n",
    "        d = number % 10\n",
    "        digits += 1\n",
    "        dsum += d\n",
    "        number //= 10\n",
    "    return digits, dsum\n",
    "\n",
    "n = int(input(\"enter a number:\"))\n",
    "count, sum = count_and_sum(n)\n",
    "print(\"Number of digits in\", n,\":\", count)\n",
    "print(\"Sum of digits in\",n,\":\", sum)"
   ]
  },
  {
   "cell_type": "markdown",
   "id": "4e22ac87",
   "metadata": {},
   "source": [
    "# 13. Write functions called is _sorted that takes a list as a parameter and returns True if the list is sorted\n",
    "\n",
    "in ascending order and False otherwise and has_ duplicates that takes a list and returns True if\n",
    "\n",
    "there is any element that appears more than once. It should not modify the original list."
   ]
  },
  {
   "cell_type": "code",
   "execution_count": 5,
   "id": "a2c9396b",
   "metadata": {},
   "outputs": [
    {
     "name": "stdout",
     "output_type": "stream",
     "text": [
      "is list sorted? True\n",
      "any duplicate values? True\n"
     ]
    }
   ],
   "source": [
    "def is_sort(l):\n",
    "    return l==sorted(l)\n",
    "def dup(l):\n",
    "    return len(l)!=len(set(l))\n",
    "lst=[6,7,8,9,10,12,12,22]\n",
    "print(\"is list sorted?\",is_sort(lst))\n",
    "print(\"any duplicate values?\",dup(lst))"
   ]
  },
  {
   "cell_type": "markdown",
   "id": "a1c03009",
   "metadata": {},
   "source": [
    "# 14. Write functions called nested_sum that takes a list of integers and adds up the elements from all\n",
    "\n",
    "the nested lists and cumsum that takes a list of numbers and returns the cumulative sum; that is, a\n",
    "\n",
    "new list where the ith element is the sum of the first i + 1 elements from the original list."
   ]
  },
  {
   "cell_type": "code",
   "execution_count": 8,
   "id": "1e108fc1",
   "metadata": {},
   "outputs": [
    {
     "name": "stdout",
     "output_type": "stream",
     "text": [
      "Sum of elements in nested list: 65\n",
      "Cumulative sum of the list: [1, 3, 6, 10, 15, 21]\n"
     ]
    }
   ],
   "source": [
    "def n(l):\n",
    "    t = 0\n",
    "    for item in l:\n",
    "        if isinstance(item, list):\n",
    "            t += nest(item)\n",
    "        else:\n",
    "            t += item\n",
    "    return t\n",
    "nlist = [2, 3, [6, 18], [10, [12, 14]]]\n",
    "result = n(nlist)\n",
    "print(\"Sum of elements in nested list:\",result)\n",
    "def cumsum(numbers):\n",
    "    cumulative_sum = []\n",
    "    current_sum = 0\n",
    "    for num in numbers:\n",
    "        current_sum += num\n",
    "        cumulative_sum.append(current_sum)\n",
    "    return cumulative_sum\n",
    "my_list = [1,2,3,4,5,6]\n",
    "cumulative_result = cumsum(my_list)\n",
    "print(\"Cumulative sum of the list:\", cumulative_result)"
   ]
  }
 ],
 "metadata": {
  "kernelspec": {
   "display_name": "Python 3 (ipykernel)",
   "language": "python",
   "name": "python3"
  },
  "language_info": {
   "codemirror_mode": {
    "name": "ipython",
    "version": 3
   },
   "file_extension": ".py",
   "mimetype": "text/x-python",
   "name": "python",
   "nbconvert_exporter": "python",
   "pygments_lexer": "ipython3",
   "version": "3.11.4"
  }
 },
 "nbformat": 4,
 "nbformat_minor": 5
}
