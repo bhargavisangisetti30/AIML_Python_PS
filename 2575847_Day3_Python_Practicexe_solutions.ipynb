{
 "cells": [
  {
   "cell_type": "markdown",
   "id": "25a8638e",
   "metadata": {},
   "source": [
    "# 1.Write a python function that copies a file reading and writing up to 50 characters at a time."
   ]
  },
  {
   "cell_type": "code",
   "execution_count": 10,
   "id": "41db9bd1",
   "metadata": {},
   "outputs": [
    {
     "name": "stdout",
     "output_type": "stream",
     "text": [
      "File handling in Python is a powerful and versatil\n"
     ]
    }
   ],
   "source": [
    "with open('sample.txt','r') as f:\n",
    "        c = f.read(50)\n",
    "        print(c)"
   ]
  },
  {
   "cell_type": "markdown",
   "id": "c756260f",
   "metadata": {},
   "source": [
    "# 2. Print all numbers present in the text file and print the number of blank spaces in that file"
   ]
  },
  {
   "cell_type": "code",
   "execution_count": 42,
   "id": "48e0213d",
   "metadata": {},
   "outputs": [
    {
     "name": "stdout",
     "output_type": "stream",
     "text": [
      "1 2 \n",
      "no of blank spaces in that file is: 8\n"
     ]
    }
   ],
   "source": [
    "file = open(\"sample1.txt\", \"r\")\n",
    "count = 0\n",
    "num_count=0\n",
    "while True:\n",
    "    char = file.read(1)\n",
    "    if (char.isdigit()):\n",
    "        print(char,end=\" \")\n",
    "    if char == \" \":\n",
    "        count += 1\n",
    "    if not char:\n",
    "        break\n",
    "print(\"\\nno of blank spaces in that file is:\",count)\n"
   ]
  },
  {
   "cell_type": "markdown",
   "id": "699ca4a4",
   "metadata": {},
   "source": [
    "# 3. Write a function called sed that takes as arguments a pattern string, a replacement string,\n",
    "\n",
    "and two filenames; it should read the first file and write the contents into the second file\n",
    "\n",
    "(creating it if necessary). If the pattern string appears anywhere in the file, it should be\n",
    "\n",
    "replaced with the replacement string. If an error occurs while opening, reading, writing,\n",
    "\n",
    "or closing files, your program should catch the exception, print an error message, and\n",
    "\n",
    "exit."
   ]
  },
  {
   "cell_type": "code",
   "execution_count": 41,
   "id": "3684a54f",
   "metadata": {},
   "outputs": [
    {
     "name": "stdout",
     "output_type": "stream",
     "text": [
      "Java sessions= AIML\n"
     ]
    }
   ],
   "source": [
    "import sys\n",
    "def sed(pattern, replacement, sample, samp):\n",
    "    try: \n",
    "        with open(sample, 'r') as file1:\n",
    "            content =file1.read()\n",
    "            content = content.replace(pattern, replacement)\n",
    "        with open(samp, 'w') as file2:\n",
    "            file2.write(content)\n",
    "    except:\n",
    "        print('file not found')\n",
    "        print(sys.exc_info()[0]._name_)\n",
    "        print(sys.exc_info()[1])\n",
    "    else:\n",
    "        with open(samp, 'r') as file2: \n",
    "            print(file2.read())\n",
    "sed(\"Python\", \"Java\", 'sample.txt', 'samp.txt')"
   ]
  },
  {
   "cell_type": "markdown",
   "id": "73019c51",
   "metadata": {},
   "source": [
    "# 4. Log File Analysis: You have a log file containing records of user activities on a website.\n",
    "\n",
    "Each line in the file represents a log entry with details like timestamp, user ID, and action\n",
    "\n",
    "performed. Your task is to analyze this log file.\n",
    "\n",
    "a. Write Python code to read the log file and extract specific information, such as the\n",
    "\n",
    "number of unique users or the most common action.\n",
    "\n",
    "b. How would you handle large log files efficiently without loading the entire file\n",
    "\n",
    "into memory?"
   ]
  },
  {
   "cell_type": "code",
   "execution_count": 2,
   "id": "af6b8afa",
   "metadata": {},
   "outputs": [
    {
     "name": "stdout",
     "output_type": "stream",
     "text": [
      "Date: [2023-09-0\n",
      "Total Entries: 1613\n",
      "Sample Entries:\n",
      "1. 21:51:29] Executing bootstrap tasks\n",
      "2. 21:51:29] OpenJDK Runtime Environment 17.0.7+7\n",
      "3. 21:51:29] Product org.eclipse.products.epp.package.java.2023-06\n",
      "4. 21:51:29] Bundle org.eclipse.oomph.setup 1.26.0.v20230416-0656, build=5945, branch=c5558820f367665758d4d719b7553a02ff4954e0\n",
      "5. 21:51:29] Bundle org.eclipse.oomph.setup.core 1.27.0.v20230402-0730, build=5945, branch=c5558820f367665758d4d719b7553a02ff4954e0\n",
      "------\n"
     ]
    }
   ],
   "source": [
    "# Function to parse a log file and extract relevant information\n",
    "def parse_log_file(log_file_path):\n",
    "        # Create a dictionary to store log entries by date\n",
    "        log_entries_by_date = {}\n",
    "\n",
    "        with open(log_file_path, 'r') as log_file:\n",
    "            for line in log_file:\n",
    "                # Split each line into timestamp and message\n",
    "                parts = line.strip().split(' ', 1)\n",
    "                if len(parts) == 2:\n",
    "                    timestamp, message = parts\n",
    "                    date = timestamp[:10] # Extract the date portion\n",
    "                    if date in log_entries_by_date:\n",
    "                            log_entries_by_date[date].append(message)\n",
    "                    else:\n",
    "                            log_entries_by_date[date] = [message]\n",
    "        return log_entries_by_date\n",
    "\n",
    "# Function to analyze log data (you can customize this based on your needs)\n",
    "def analyze_log_data(log_entries_by_date):\n",
    "            for date, entries in log_entries_by_date.items():\n",
    "                    print(f\"Date: {date}\")\n",
    "                    print(f\"Total Entries: {len(entries)}\")\n",
    "                    print(\"Sample Entries:\")\n",
    "                    for i, entry in enumerate(entries[:5], start=1):\n",
    "                            print(f\"{i}. {entry}\")\n",
    "                    print(\"------\")\n",
    "\n",
    "if __name__ == \"__main__\":\n",
    "            log_file_path = 'logfile.txt'# Replace with the path to your log file\n",
    "            log_entries_by_date = parse_log_file(log_file_path)\n",
    "            analyze_log_data(log_entries_by_date)"
   ]
  },
  {
   "cell_type": "markdown",
   "id": "1e1c8047",
   "metadata": {},
   "source": [
    "# 5. Text File Search and Replace: You have a text file with a large amount of text, and you\n",
    "\n",
    "want to search for specific words or phrases and replace them with new content.\n",
    "\n",
    "a. Write Python code to search for and replace text within a text file.\n",
    "\n",
    "b. How would you handle cases where you need to perform multiple replacements in\n",
    "\n",
    "a single pass?"
   ]
  },
  {
   "cell_type": "code",
   "execution_count": 11,
   "id": "9ca1f616",
   "metadata": {},
   "outputs": [],
   "source": [
    "def search_n_replace(input_file, output_file, search_replace_dict):\n",
    "    with open(input_file, 'r') as infile, open(output_file, 'w') as outfile:\n",
    "        content = infile.read()\n",
    "        for search, replace in search_replace_dict.items():\n",
    "            content = content.replace(search, replace)\n",
    "        outfile.write(content)\n",
    "input_file = \"sample.txt\"\n",
    "output_file = \"sample2.txt\"\n",
    "search_replace_dict = {\n",
    "\".Py\": \"python\",\n",
    "\"file\": \"doc\",\n",
    "}\n",
    "search_n_replace(input_file, output_file, search_replace_dict)"
   ]
  },
  {
   "cell_type": "markdown",
   "id": "cc517bfe",
   "metadata": {},
   "source": [
    "# 6. Write a Python script that concatenates the contents of multiple text files into a single\n",
    "\n",
    "output file. Allow the user to specify the input files and the output file."
   ]
  },
  {
   "cell_type": "code",
   "execution_count": 48,
   "id": "7591b696",
   "metadata": {},
   "outputs": [],
   "source": [
    "file1 = open('sample.txt', 'r')\n",
    "file2 = open('sample1.txt', 'r')\n",
    "\n",
    "# Read the contents of the text files\n",
    "c1 = file1.read()\n",
    "c2 = file2.read()\n",
    "\n",
    "# Close the source text files\n",
    "file1.close()\n",
    "file2.close()\n",
    "\n",
    "# Open the destination file\n",
    "cfile = open('cs_s1.txt', 'w')\n",
    "cfile.write(c1 + c2)\n",
    "# Close the destination file\n",
    "cfile.close()"
   ]
  },
  {
   "cell_type": "markdown",
   "id": "a87c38be",
   "metadata": {},
   "source": [
    "# 7. You are given a text file named input.txt containing a list of words, one word per line.\n",
    "\n",
    "Your task is to create a Python program that reads the contents of input.txt, processes the\n",
    "\n",
    "words, and writes the result to an output file named output.txt.\n",
    "\n",
    "a. The program should perform the following operations:\n",
    "\n",
    "i. Read the words from input.txt.\n",
    "\n",
    "ii. For each word in the input file, calculate the length of the word and store it\n",
    "\n",
    "in a dictionary where the word is the key, and the length is the value.\n",
    "\n",
    "iii. Write the word-length dictionary to output.txt in the following format:\n",
    "\n",
    "iv. Close both input and output files properly.\n",
    "\n",
    "v. Write Python code to accomplish this task. Ensure proper error handling\n",
    "\n",
    "for file operations."
   ]
  },
  {
   "cell_type": "code",
   "execution_count": 35,
   "id": "c6989449",
   "metadata": {},
   "outputs": [
    {
     "name": "stdout",
     "output_type": "stream",
     "text": [
      "successfull.\n"
     ]
    }
   ],
   "source": [
    "try:\n",
    "    with open('input.txt', 'r') as input_file:\n",
    "             dict = {}  \n",
    "             for line in input_file:\n",
    "                    word = line.strip()  # Removing whitespace\n",
    "                    word_length = len(word)\n",
    "                    dict[word] = word_length\n",
    "    with open('output.txt', 'w') as output_file:\n",
    "        for word, length in dict.items():\n",
    "            output_file.write(f\"{word}: {length}\\n\")\n",
    "    print(\"successfull.\")\n",
    "except FileNotFoundError:\n",
    "    print(\"input.txt not found.\")\n",
    "except Exception as e:\n",
    "    print(f\"An error occurred: {str(e)}\")\n"
   ]
  },
  {
   "cell_type": "markdown",
   "id": "a69a293f",
   "metadata": {},
   "source": [
    "# 8. Assume that you are developing a student gradebook system for a school. The system\n",
    "\n",
    "should allow teachers to input student grades for various subjects, store the data in files,\n",
    "\n",
    "and provide students with the ability to view their grades.\n",
    "\n",
    "Design a Python program that accomplishes the following tasks:\n",
    "\n",
    "i. Teachers should be able to input grades for students in different subjects.\n",
    "\n",
    "ii. Store the student grade data in separate text files for each subject.\n",
    "\n",
    "iii. Students should be able to view their grades for each subject.\n",
    "\n",
    "iv. Implement error handling for file operations, such as file not found or\n",
    "\n",
    "permission issues."
   ]
  },
  {
   "cell_type": "code",
   "execution_count": 3,
   "id": "4219a7e8",
   "metadata": {},
   "outputs": [
    {
     "name": "stdout",
     "output_type": "stream",
     "text": [
      "Gradebook Menu:\n",
      "1. Input Grades\n",
      "2. View Grades\n",
      "3. Exit\n",
      "Enter your choice (1/2/3): 1\n",
      "Enter Student ID: 56\n",
      "Enter Subject: 89\n",
      "Enter Grade: A\n",
      "Gradebook Menu:\n",
      "1. Input Grades\n",
      "2. View Grades\n",
      "3. Exit\n",
      "Enter your choice (1/2/3): 3\n",
      "Exiting.\n"
     ]
    }
   ],
   "source": [
    "import os\n",
    "def input_grades(student_id, subject, grade):\n",
    "    filename = f\"{subject}_grades.txt\"\n",
    "    try:\n",
    "        with open(filename, 'a') as file:\n",
    "            file.write(f\"{student_id}: {grade}\\n\")\n",
    "    except FileNotFoundError:\n",
    "        print(\"no such file or directory\")\n",
    "    except PermissionError:\n",
    "        print(f\"Error: Permission denied to write to '{filename}'.\")\n",
    "    except Exception as e:\n",
    "        print(f\"An error occurred: {str(e)}\")\n",
    "def view_grades(student_id, subject):\n",
    "    filename = f\"{subject}_grades.txt\"\n",
    "    try:\n",
    "        with open(filename, 'r') as file:\n",
    "            lines = file.readlines()\n",
    "            student_grades = [line.strip() for line in lines if line.startswith(f\"{student_id}: \")]\n",
    "            if student_grades:\n",
    "                print(f\"Grades for {student_id} in {subject}:\")\n",
    "                for grade in student_grades:\n",
    "                    print(grade)\n",
    "            else:\n",
    "                print(f\"No grades found for {student_id} in {subject}.\")\n",
    "    except FileNotFoundError:\n",
    "        print(f\"Error: File '{filename}' not found.\")\n",
    "    except PermissionError:\n",
    "        print(f\"Error: Permission denied to read '{filename}'.\")\n",
    "    except Exception as e:\n",
    "        print(f\"An error occurred: {str(e)}\")\n",
    "while True:\n",
    "    print(\"Gradebook Menu:\")\n",
    "    print(\"1. Input Grades\")\n",
    "    print(\"2. View Grades\")\n",
    "    print(\"3. Exit\")\n",
    "    choice = input(\"Enter your choice (1/2/3): \")\n",
    "    if choice == \"1\":\n",
    "        student_id = input(\"Enter Student ID: \")\n",
    "        subject = input(\"Enter Subject: \")\n",
    "        grade = input(\"Enter Grade: \")\n",
    "        input_grades(student_id, subject, grade)\n",
    "    elif choice == \"2\":\n",
    "        student_id = input(\"Enter Student ID: \")\n",
    "        subject = input(\"Enter Subject: \")\n",
    "        view_grades(student_id, subject)\n",
    "    elif choice == \"3\":\n",
    "        print(\"Exiting.\")\n",
    "        break"
   ]
  }
 ],
 "metadata": {
  "kernelspec": {
   "display_name": "Python 3 (ipykernel)",
   "language": "python",
   "name": "python3"
  },
  "language_info": {
   "codemirror_mode": {
    "name": "ipython",
    "version": 3
   },
   "file_extension": ".py",
   "mimetype": "text/x-python",
   "name": "python",
   "nbconvert_exporter": "python",
   "pygments_lexer": "ipython3",
   "version": "3.11.4"
  }
 },
 "nbformat": 4,
 "nbformat_minor": 5
}
